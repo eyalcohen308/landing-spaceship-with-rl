{
 "cells": [
  {
   "cell_type": "markdown",
   "metadata": {},
   "source": [
    "# Section 2: Testing"
   ]
  },
  {
   "cell_type": "markdown",
   "metadata": {},
   "source": [
    "### 9.1 Load the Model"
   ]
  },
  {
   "cell_type": "code",
   "execution_count": null,
   "metadata": {},
   "outputs": [],
   "source": [
    "model_path = 'new_results2/current_model_800.pth'\n",
    "current_model = RLModel(agent_configs['network_arch'])\n",
    "checkpoint = torch.load(model_path)\n",
    "current_model.load_state_dict(checkpoint['model_state_dict'])"
   ]
  },
  {
   "cell_type": "markdown",
   "metadata": {},
   "source": [
    "### 9.2 Softmax policy"
   ]
  },
  {
   "cell_type": "code",
   "execution_count": null,
   "metadata": {},
   "outputs": [],
   "source": [
    "def policy(state, model, num_actions = 4):\n",
    "        \n",
    "        \"\"\"\n",
    "        Select the action given a single state.\n",
    "        \n",
    "        \"\"\"\n",
    "        model.eval()\n",
    "        # compute action values states:(1, state_dim)\n",
    "        q_values = model(state)\n",
    "\n",
    "        # compute the probs of each action (1, num_actions)\n",
    "        probs = softmax(q_values.data, tau = 0.01)\n",
    "        probs = np.array(probs)\n",
    "        probs /= probs.sum()\n",
    "\n",
    "        # select action\n",
    "        rand_generator = np.random.RandomState(seed = 1)\n",
    "        action = rand_generator.choice(num_actions, 1, p = probs.squeeze())\n",
    "#         action = np.argmax(probs.squeeze())\n",
    "        \n",
    "        return action"
   ]
  },
  {
   "cell_type": "markdown",
   "metadata": {},
   "source": [
    "### 9.3 Visualize the results"
   ]
  },
  {
   "cell_type": "code",
   "execution_count": null,
   "metadata": {},
   "outputs": [],
   "source": [
    "env = gym.make(\"LunarLander-v2\")\n",
    "env = wrappers.Monitor(env, './videos_800/' + '/')\n",
    "for i_episode in range(10):\n",
    "    observation = env.reset()\n",
    "    total_reward = 0\n",
    "    \n",
    "    for t in range(1000):\n",
    "        env.render()\n",
    "#         print(observation)\n",
    "        with torch.no_grad():\n",
    "            observation = Variable(torch.tensor(observation).view(1, -1))\n",
    "            action = policy(observation, current_model)\n",
    "            action = int(action.squeeze())\n",
    "\n",
    "            observation, reward, done, info = env.step(action)\n",
    "            total_reward += reward\n",
    "            if done:\n",
    "                \n",
    "                print(\"Episode finished after {} timesteps, total reward : {}\".format(t+1, total_reward))\n",
    "                break\n",
    "env.close()\n",
    "print('end')"
   ]
  },
  {
   "cell_type": "code",
   "execution_count": null,
   "metadata": {},
   "outputs": [],
   "source": []
  }
 ],
 "metadata": {
  "kernelspec": {
   "display_name": "Python [conda env:mlenv] *",
   "language": "python",
   "name": "conda-env-mlenv-py"
  },
  "language_info": {
   "codemirror_mode": {
    "name": "ipython",
    "version": 3
   },
   "file_extension": ".py",
   "mimetype": "text/x-python",
   "name": "python",
   "nbconvert_exporter": "python",
   "pygments_lexer": "ipython3",
   "version": "3.7.4"
  }
 },
 "nbformat": 4,
 "nbformat_minor": 2
}